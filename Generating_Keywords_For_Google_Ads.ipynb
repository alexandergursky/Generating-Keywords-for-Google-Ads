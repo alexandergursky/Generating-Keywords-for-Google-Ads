{
 "cells": [
  {
   "metadata": {
    "editable": false,
    "deletable": false,
    "dc": {
     "key": "4"
    },
    "run_control": {
     "frozen": true
    },
    "tags": [
     "context"
    ]
   },
   "source": [
    "## The brief\n",
    "\n",
    "<p>The client is generally a low-cost retailer, offering many promotions and discounts. We will need to focus on such keywords. We will also need to move away from luxury keywords and topics, as we are targeting price-sensitive customers. Because we are going to be tight on budget, it would be good to focus on a tightly targeted set of keywords and make sure they are all set to exact and phrase match.</p>\n",
    "\n",
    "<p>As a final result, we want to have a DataFrame that looks like this: </p>\n",
    "<table>\n",
    "<thead>\n",
    "<tr>\n",
    "<th>Campaign</th>\n",
    "<th>Ad Group</th>\n",
    "<th>Keyword</th>\n",
    "<th>Criterion Type</th>\n",
    "</tr>\n",
    "</thead>\n",
    "<tbody>\n",
    "<tr>\n",
    "<td>Campaign1</td>\n",
    "<td>AdGroup_1</td>\n",
    "<td>keyword 1a</td>\n",
    "<td>Exact</td>\n",
    "</tr>\n",
    "<tr>\n",
    "<td>Campaign1</td>\n",
    "<td>AdGroup_1</td>\n",
    "<td>keyword 1a</td>\n",
    "<td>Phrase</td>\n",
    "</tr>\n",
    "<tr>\n",
    "<td>Campaign1</td>\n",
    "<td>AdGroup_1</td>\n",
    "<td>keyword 1b</td>\n",
    "<td>Exact</td>\n",
    "</tr>\n",
    "<tr>\n",
    "<td>Campaign1</td>\n",
    "<td>AdGroup_1</td>\n",
    "<td>keyword 1b</td>\n",
    "<td>Phrase</td>\n",
    "</tr>\n",
    "<tr>\n",
    "<td>Campaign1</td>\n",
    "<td>AdGroup_2</td>\n",
    "<td>keyword 2a</td>\n",
    "<td>Exact</td>\n",
    "</tr>\n",
    "<tr>\n",
    "<td>Campaign1</td>\n",
    "<td>AdGroup_2</td>\n",
    "<td>keyword 2a</td>\n",
    "<td>Phrase</td>\n",
    "</tr>\n",
    "</tbody>\n",
    "</table>\n",
    "<p>The first step is to come up with a list of words that users might use to express their desire in buying low-cost sofas.</p>"
   ],
   "cell_type": "markdown"
  },
  {
   "metadata": {
    "dc": {
     "key": "4"
    },
    "tags": [
     "sample_code"
    ],
    "trusted": true
   },
   "source": [
    "# List of words to pair with products\n",
    "words = ['buy', 'promotion', 'shop', 'budget',\n",
    "         'discount', 'price', 'affordable', 'cheap']\n",
    "\n",
    "# Print list of words\n",
    "print(words)"
   ],
   "outputs": [
    {
     "name": "stdout",
     "output_type": "stream",
     "text": [
      "['buy', 'promotion', 'shop', 'budget', 'discount', 'price', 'affordable', 'cheap']\n"
     ]
    }
   ],
   "execution_count": 1,
   "cell_type": "code"
  },
  {
   "metadata": {
    "editable": false,
    "deletable": false,
    "dc": {
     "key": "11"
    },
    "run_control": {
     "frozen": true
    },
    "tags": [
     "context"
    ]
   },
   "source": [
    "## Combine the words with the product names\n",
    "\n"
   ],
   "cell_type": "markdown"
  },
  {
   "metadata": {
    "dc": {
     "key": "11"
    },
    "tags": [
     "sample_code"
    ],
    "trusted": true
   },
   "source": [
    "products = ['sofas', 'convertible sofas', 'love seats', 'recliners', 'sofa beds']\n",
    "\n",
    "# Create an empty list\n",
    "keywords_list = []\n",
    "\n",
    "# Loop through products\n",
    "for product in products:\n",
    "    # Loop through words\n",
    "    for word in words:\n",
    "        # Append combinations\n",
    "        keywords_list.append([product, product + ' ' + word])\n",
    "        keywords_list.append([product, word + ' ' + product])\n",
    "        \n",
    "# Inspect keyword list\n",
    "from pprint import pprint\n",
    "pprint(keywords_list)"
   ],
   "outputs": [
    {
     "name": "stdout",
     "output_type": "stream",
     "text": [
      "[['sofas', 'sofas buy'],\n",
      " ['sofas', 'buy sofas'],\n",
      " ['sofas', 'sofas promotion'],\n",
      " ['sofas', 'promotion sofas'],\n",
      " ['sofas', 'sofas shop'],\n",
      " ['sofas', 'shop sofas'],\n",
      " ['sofas', 'sofas budget'],\n",
      " ['sofas', 'budget sofas'],\n",
      " ['sofas', 'sofas discount'],\n",
      " ['sofas', 'discount sofas'],\n",
      " ['sofas', 'sofas price'],\n",
      " ['sofas', 'price sofas'],\n",
      " ['sofas', 'sofas affordable'],\n",
      " ['sofas', 'affordable sofas'],\n",
      " ['sofas', 'sofas cheap'],\n",
      " ['sofas', 'cheap sofas'],\n",
      " ['convertible sofas', 'convertible sofas buy'],\n",
      " ['convertible sofas', 'buy convertible sofas'],\n",
      " ['convertible sofas', 'convertible sofas promotion'],\n",
      " ['convertible sofas', 'promotion convertible sofas'],\n",
      " ['convertible sofas', 'convertible sofas shop'],\n",
      " ['convertible sofas', 'shop convertible sofas'],\n",
      " ['convertible sofas', 'convertible sofas budget'],\n",
      " ['convertible sofas', 'budget convertible sofas'],\n",
      " ['convertible sofas', 'convertible sofas discount'],\n",
      " ['convertible sofas', 'discount convertible sofas'],\n",
      " ['convertible sofas', 'convertible sofas price'],\n",
      " ['convertible sofas', 'price convertible sofas'],\n",
      " ['convertible sofas', 'convertible sofas affordable'],\n",
      " ['convertible sofas', 'affordable convertible sofas'],\n",
      " ['convertible sofas', 'convertible sofas cheap'],\n",
      " ['convertible sofas', 'cheap convertible sofas'],\n",
      " ['love seats', 'love seats buy'],\n",
      " ['love seats', 'buy love seats'],\n",
      " ['love seats', 'love seats promotion'],\n",
      " ['love seats', 'promotion love seats'],\n",
      " ['love seats', 'love seats shop'],\n",
      " ['love seats', 'shop love seats'],\n",
      " ['love seats', 'love seats budget'],\n",
      " ['love seats', 'budget love seats'],\n",
      " ['love seats', 'love seats discount'],\n",
      " ['love seats', 'discount love seats'],\n",
      " ['love seats', 'love seats price'],\n",
      " ['love seats', 'price love seats'],\n",
      " ['love seats', 'love seats affordable'],\n",
      " ['love seats', 'affordable love seats'],\n",
      " ['love seats', 'love seats cheap'],\n",
      " ['love seats', 'cheap love seats'],\n",
      " ['recliners', 'recliners buy'],\n",
      " ['recliners', 'buy recliners'],\n",
      " ['recliners', 'recliners promotion'],\n",
      " ['recliners', 'promotion recliners'],\n",
      " ['recliners', 'recliners shop'],\n",
      " ['recliners', 'shop recliners'],\n",
      " ['recliners', 'recliners budget'],\n",
      " ['recliners', 'budget recliners'],\n",
      " ['recliners', 'recliners discount'],\n",
      " ['recliners', 'discount recliners'],\n",
      " ['recliners', 'recliners price'],\n",
      " ['recliners', 'price recliners'],\n",
      " ['recliners', 'recliners affordable'],\n",
      " ['recliners', 'affordable recliners'],\n",
      " ['recliners', 'recliners cheap'],\n",
      " ['recliners', 'cheap recliners'],\n",
      " ['sofa beds', 'sofa beds buy'],\n",
      " ['sofa beds', 'buy sofa beds'],\n",
      " ['sofa beds', 'sofa beds promotion'],\n",
      " ['sofa beds', 'promotion sofa beds'],\n",
      " ['sofa beds', 'sofa beds shop'],\n",
      " ['sofa beds', 'shop sofa beds'],\n",
      " ['sofa beds', 'sofa beds budget'],\n",
      " ['sofa beds', 'budget sofa beds'],\n",
      " ['sofa beds', 'sofa beds discount'],\n",
      " ['sofa beds', 'discount sofa beds'],\n",
      " ['sofa beds', 'sofa beds price'],\n",
      " ['sofa beds', 'price sofa beds'],\n",
      " ['sofa beds', 'sofa beds affordable'],\n",
      " ['sofa beds', 'affordable sofa beds'],\n",
      " ['sofa beds', 'sofa beds cheap'],\n",
      " ['sofa beds', 'cheap sofa beds']]\n"
     ]
    }
   ],
   "execution_count": 2,
   "cell_type": "code"
  },
  {
   "metadata": {
    "editable": false,
    "deletable": false,
    "dc": {
     "key": "18"
    },
    "run_control": {
     "frozen": true
    },
    "tags": [
     "context"
    ]
   },
   "source": [
    "## Convert the list of lists into a DataFrame\n"
   ],
   "cell_type": "markdown"
  },
  {
   "metadata": {
    "dc": {
     "key": "18"
    },
    "tags": [
     "sample_code"
    ],
    "trusted": true
   },
   "source": [
    "# Load library\n",
    "import pandas as pd\n",
    "\n",
    "# Create a DataFrame from list\n",
    "keywords_df = pd.DataFrame(keywords_list)\n",
    "\n",
    "# Print the keywords DataFrame to explore it\n",
    "print(keywords_df)\n",
    "print(keywords_df.head())"
   ],
   "outputs": [
    {
     "name": "stdout",
     "output_type": "stream",
     "text": [
      "            0                     1\n",
      "0       sofas             sofas buy\n",
      "1       sofas             buy sofas\n",
      "2       sofas       sofas promotion\n",
      "3       sofas       promotion sofas\n",
      "4       sofas            sofas shop\n",
      "..        ...                   ...\n",
      "75  sofa beds       price sofa beds\n",
      "76  sofa beds  sofa beds affordable\n",
      "77  sofa beds  affordable sofa beds\n",
      "78  sofa beds       sofa beds cheap\n",
      "79  sofa beds       cheap sofa beds\n",
      "\n",
      "[80 rows x 2 columns]\n",
      "       0                1\n",
      "0  sofas        sofas buy\n",
      "1  sofas        buy sofas\n",
      "2  sofas  sofas promotion\n",
      "3  sofas  promotion sofas\n",
      "4  sofas       sofas shop\n"
     ]
    }
   ],
   "execution_count": 3,
   "cell_type": "code"
  },
  {
   "metadata": {
    "editable": false,
    "deletable": false,
    "dc": {
     "key": "25"
    },
    "run_control": {
     "frozen": true
    },
    "tags": [
     "context"
    ]
   },
   "source": [
    "## Rename the columns of the DataFrame\n"
   ],
   "cell_type": "markdown"
  },
  {
   "metadata": {
    "dc": {
     "key": "25"
    },
    "tags": [
     "sample_code"
    ],
    "trusted": true
   },
   "source": [
    "# Rename the columns of the DataFrame\n",
    "keywords_df = keywords_df.rename({0:'Ad Group', 1:'Keyword'}, axis='columns')\n",
    "print(keywords_df.head())"
   ],
   "outputs": [
    {
     "name": "stdout",
     "output_type": "stream",
     "text": [
      "  Ad Group          Keyword\n",
      "0    sofas        sofas buy\n",
      "1    sofas        buy sofas\n",
      "2    sofas  sofas promotion\n",
      "3    sofas  promotion sofas\n",
      "4    sofas       sofas shop\n"
     ]
    }
   ],
   "execution_count": 4,
   "cell_type": "code"
  },
  {
   "metadata": {
    "editable": false,
    "deletable": false,
    "dc": {
     "key": "32"
    },
    "run_control": {
     "frozen": true
    },
    "tags": [
     "context"
    ]
   },
   "source": [
    "## Add a campaign column\n"
   ],
   "cell_type": "markdown"
  },
  {
   "metadata": {
    "dc": {
     "key": "32"
    },
    "tags": [
     "sample_code"
    ],
    "trusted": true
   },
   "source": [
    "# Add a campaign column\n",
    "keywords_df['Campaign'] = 'SEM_Sofas'\n",
    "print(keywords_df.head())"
   ],
   "outputs": [
    {
     "name": "stdout",
     "output_type": "stream",
     "text": [
      "  Ad Group          Keyword   Campaign\n",
      "0    sofas        sofas buy  SEM_Sofas\n",
      "1    sofas        buy sofas  SEM_Sofas\n",
      "2    sofas  sofas promotion  SEM_Sofas\n",
      "3    sofas  promotion sofas  SEM_Sofas\n",
      "4    sofas       sofas shop  SEM_Sofas\n"
     ]
    }
   ],
   "execution_count": 5,
   "cell_type": "code"
  },
  {
   "metadata": {
    "editable": false,
    "deletable": false,
    "dc": {
     "key": "39"
    },
    "run_control": {
     "frozen": true
    },
    "tags": [
     "context"
    ]
   },
   "source": [
    "## Create the match type column\n",
    "<p>There are different keyword match types. One is exact match, which is for matching the exact term or are close variations of that exact term. Another match type is broad match, which means ads may show on searches that include misspellings, synonyms, related searches, and other relevant variations.</p>\n",
    "<p>Straight from Google's AdWords <a href=\"https://support.google.com/google-ads/answer/2497836?hl=en\">documentation</a>:</p>\n",
    "<blockquote>\n",
    "  <p>In general, the broader the match type, the more traffic potential that keyword will have, since your ads may be triggered more often. Conversely, a narrower match type means that your ads may show less often—but when they do, they’re likely to be more related to someone’s search.</p>\n",
    "</blockquote>\n",
    "<p>Since the client is tight on budget, we want to make sure all the keywords are in exact match at the beginning.</p>"
   ],
   "cell_type": "markdown"
  },
  {
   "metadata": {
    "dc": {
     "key": "39"
    },
    "tags": [
     "sample_code"
    ],
    "trusted": true
   },
   "source": [
    "# Add a criterion type column\n",
    "keywords_df['Criterion Type'] = 'Exact'\n",
    "print(keywords_df.head())"
   ],
   "outputs": [
    {
     "name": "stdout",
     "output_type": "stream",
     "text": [
      "  Ad Group          Keyword   Campaign Criterion Type\n",
      "0    sofas        sofas buy  SEM_Sofas          Exact\n",
      "1    sofas        buy sofas  SEM_Sofas          Exact\n",
      "2    sofas  sofas promotion  SEM_Sofas          Exact\n",
      "3    sofas  promotion sofas  SEM_Sofas          Exact\n",
      "4    sofas       sofas shop  SEM_Sofas          Exact\n"
     ]
    }
   ],
   "execution_count": 6,
   "cell_type": "code"
  },
  {
   "metadata": {
    "editable": false,
    "deletable": false,
    "dc": {
     "key": "46"
    },
    "run_control": {
     "frozen": true
    },
    "tags": [
     "context"
    ]
   },
   "source": [
    "## Duplicate all the keywords into 'phrase' match\n",
    "<p>The great thing about exact match is that it is very specific, and we can control the process very well. The tradeoff, however, is that:  </p>\n",
    "<ol>\n",
    "<li>The search volume for exact match is lower than other match types</li>\n",
    "<li>We can't possibly think of all the ways in which people search, and so, we are probably missing out on some high-quality keywords.</li>\n",
    "</ol>\n",
    "<p>So it's good to use another match called <em>phrase match</em> as a discovery mechanism to allow our ads to be triggered by keywords that include our exact match keywords, together with anything before (or after) them.</p>\n"
   ],
   "cell_type": "markdown"
  },
  {
   "metadata": {
    "dc": {
     "key": "46"
    },
    "tags": [
     "sample_code"
    ],
    "trusted": true
   },
   "source": [
    "# Make a copy of the keywords DataFrame\n",
    "keywords_phrase = keywords_df.copy()\n",
    "\n",
    "# Change criterion type match to phrase\n",
    "keywords_phrase['Criterion Type'] = 'Phrase'\n",
    "print(keywords_phrase.head())\n",
    "print(keywords_phrase.head())\n",
    "\n",
    "# Append the DataFrames\n",
    "keywords_df_final = pd.concat([keywords_df, keywords_phrase])\n",
    "print(keywords_df_final.head())"
   ],
   "outputs": [
    {
     "name": "stdout",
     "output_type": "stream",
     "text": [
      "  Ad Group          Keyword   Campaign Criterion Type\n",
      "0    sofas        sofas buy  SEM_Sofas         Phrase\n",
      "1    sofas        buy sofas  SEM_Sofas         Phrase\n",
      "2    sofas  sofas promotion  SEM_Sofas         Phrase\n",
      "3    sofas  promotion sofas  SEM_Sofas         Phrase\n",
      "4    sofas       sofas shop  SEM_Sofas         Phrase\n",
      "  Ad Group          Keyword   Campaign Criterion Type\n",
      "0    sofas        sofas buy  SEM_Sofas         Phrase\n",
      "1    sofas        buy sofas  SEM_Sofas         Phrase\n",
      "2    sofas  sofas promotion  SEM_Sofas         Phrase\n",
      "3    sofas  promotion sofas  SEM_Sofas         Phrase\n",
      "4    sofas       sofas shop  SEM_Sofas         Phrase\n",
      "  Ad Group          Keyword   Campaign Criterion Type\n",
      "0    sofas        sofas buy  SEM_Sofas          Exact\n",
      "1    sofas        buy sofas  SEM_Sofas          Exact\n",
      "2    sofas  sofas promotion  SEM_Sofas          Exact\n",
      "3    sofas  promotion sofas  SEM_Sofas          Exact\n",
      "4    sofas       sofas shop  SEM_Sofas          Exact\n"
     ]
    }
   ],
   "execution_count": 7,
   "cell_type": "code"
  },
  {
   "cell_type": "markdown",
   "source": [
    "## Save and summarize\n",
    "<p>To upload our campaign, we need to save it as a CSV file. Then we will be able to import it to AdWords editor or BingAds editor. There is also the option of pasting the data into the editor if we want, but having easy access to the saved data is great so let's save to a CSV file.\n"
   ],
   "metadata": {
    "collapsed": false
   }
  },
  {
   "metadata": {
    "dc": {
     "key": "53"
    },
    "tags": [
     "sample_code"
    ],
    "trusted": true
   },
   "source": [
    "# Save the final keywords to a CSV file\n",
    "keywords_df_final.to_csv('keywords.csv', index= False)\n",
    "\n",
    "# View a summary of our campaign work\n",
    "summary = keywords_df_final.groupby(['Ad Group', 'Criterion Type'])['Keyword'].count()\n",
    "print(summary)"
   ],
   "outputs": [
    {
     "name": "stdout",
     "output_type": "stream",
     "text": [
      "Ad Group           Criterion Type\n",
      "convertible sofas  Exact             16\n",
      "                   Phrase            16\n",
      "love seats         Exact             16\n",
      "                   Phrase            16\n",
      "recliners          Exact             16\n",
      "                   Phrase            16\n",
      "sofa beds          Exact             16\n",
      "                   Phrase            16\n",
      "sofas              Exact             16\n",
      "                   Phrase            16\n",
      "Name: Keyword, dtype: int64\n"
     ]
    }
   ],
   "execution_count": 8,
   "cell_type": "code"
  }
 ],
 "metadata": {
  "kernelspec": {
   "display_name": "Python 3",
   "language": "python",
   "name": "python3"
  },
  "language_info": {
   "mimetype": "text/x-python",
   "nbconvert_exporter": "python",
   "name": "python",
   "codemirror_mode": {
    "version": 3,
    "name": "ipython"
   },
   "pygments_lexer": "ipython3",
   "version": "3.5.2",
   "file_extension": ".py"
  }
 },
 "nbformat": 4,
 "nbformat_minor": 2
}
